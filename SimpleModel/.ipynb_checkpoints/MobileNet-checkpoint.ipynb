{
 "cells": [
  {
   "cell_type": "code",
   "execution_count": 4,
   "metadata": {},
   "outputs": [],
   "source": [
    "import tensorflow.keras as keras\n",
    "import tensorflowjs as tfjs\n",
    "mobilenet = keras.applications.mobilenet.MobileNet()\n",
    "tfjs.converters.save_keras_model(mobilenet, './models/mobilenet')"
   ]
  },
  {
   "cell_type": "code",
   "execution_count": 8,
   "metadata": {},
   "outputs": [
    {
     "ename": "KeyError",
     "evalue": "'class_name'",
     "output_type": "error",
     "traceback": [
      "---------------------------------------------------------------------------",
      "KeyError                                  Traceback (most recent call last)",
      "<ipython-input-8-8e730942e497> in <module>()\n      6 with open(\"models/mobilenet/model.json\", \"r\") as f:\n      7     load_json = f.read()\n----> 8 model = keras.models.model_from_json(load_json)\n",
      "C:\\Users\\khanhpd2\\AppData\\Roaming\\Python\\Python37\\site-packages\\tensorflow_core\\python\\keras\\saving\\model_config.py in model_from_json(json_string, custom_objects)\n     94   config = json.loads(json_string)\n     95   from tensorflow.python.keras.layers import deserialize  # pylint: disable=g-import-not-at-top\n---> 96   return deserialize(config, custom_objects=custom_objects)\n",
      "C:\\Users\\khanhpd2\\AppData\\Roaming\\Python\\Python37\\site-packages\\tensorflow_core\\python\\keras\\layers\\serialization.py in deserialize(config, custom_objects)\n     92   globs['DenseFeatures'] = dense_features.DenseFeatures\n     93 \n---> 94   layer_class_name = config['class_name']\n     95   if layer_class_name in _DESERIALIZATION_TABLE:\n     96     config['class_name'] = _DESERIALIZATION_TABLE[layer_class_name]\n",
      "KeyError: 'class_name'"
     ]
    }
   ],
   "source": [
    "# !pip install tensorflowjs --user\n",
    "# !pip uninstall tensorflow\n",
    "\n",
    "# mobilenet.save(\"h5models/mobilenet_1.00_224.h5\")\n",
    "\n",
    "with open(\"models/mobilenet/model.json\", \"r\") as f:\n",
    "    load_json = f.read()\n",
    "model = keras.models.model_from_json(load_json)"
   ]
  },
  {
   "cell_type": "code",
   "execution_count": 13,
   "metadata": {},
   "outputs": [
    {
     "ename": "AttributeError",
     "evalue": "module 'tensorflow_core.keras' has no attribute 'model'",
     "output_type": "error",
     "traceback": [
      "---------------------------------------------------------------------------",
      "AttributeError                            Traceback (most recent call last)",
      "<ipython-input-13-b2e6236a0189> in <module>()\n----> 1 model = keras.model.load_weights(\"h5models/mobilenet_1.00_224.h5\")\n",
      "AttributeError: module 'tensorflow_core.keras' has no attribute 'model'"
     ]
    }
   ],
   "source": [
    "model = keras.model.load_weights(\"h5models/mobilenet_1.00_224.h5\")"
   ]
  }
 ],
 "metadata": {
  "kernelspec": {
   "display_name": "Python 3",
   "language": "python",
   "name": "python3"
  },
  "language_info": {
   "codemirror_mode": {
    "name": "ipython",
    "version": 3
   },
   "file_extension": ".py",
   "mimetype": "text/x-python",
   "name": "python",
   "nbconvert_exporter": "python",
   "pygments_lexer": "ipython3",
   "version": "3.7.1"
  }
 },
 "nbformat": 4,
 "nbformat_minor": 2
}
