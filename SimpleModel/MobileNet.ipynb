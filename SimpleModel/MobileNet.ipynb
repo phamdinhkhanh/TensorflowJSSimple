{
 "cells": [
  {
   "cell_type": "code",
   "execution_count": 1,
   "metadata": {},
   "outputs": [],
   "source": [
    "# import tensorflow.keras as keras\n",
    "# import tensorflowjs as tfjs\n",
    "# mobilenet = keras.applications.mobilenet.MobileNet()\n",
    "# tfjs.converters.save_keras_model(mobilenet, './models/mobilenet')"
   ]
  },
  {
   "cell_type": "code",
   "execution_count": 3,
   "metadata": {},
   "outputs": [],
   "source": [
    "# import tensorflow.keras as keras\n",
    "# import tensorflowjs as tfjs\n",
    "# vgg16 = keras.applications.vgg16.VGG16()\n",
    "# tfjs.converters.save_keras_model(vgg16, './models/vgg16')"
   ]
  },
  {
   "cell_type": "code",
   "execution_count": 4,
   "metadata": {},
   "outputs": [
    {
     "name": "stdout",
     "output_type": "stream",
     "text": [
      "Downloading data from https://github.com/titu1994/Keras-NASNet/releases/download/v1.2/NASNet-mobile.h5\n",
      "24231936/24227760 [==============================] - 80s 3us/step\n"
     ]
    }
   ],
   "source": [
    "import tensorflow.keras as keras\n",
    "import tensorflowjs as tfjs\n",
    "nasnet = keras.applications.nasnet.NASNetMobile()\n",
    "tfjs.converters.save_keras_model(nasnet, './models/nasnet')"
   ]
  },
  {
   "cell_type": "code",
   "execution_count": 7,
   "metadata": {},
   "outputs": [],
   "source": [
    "# nasnet.summary()"
   ]
  },
  {
   "cell_type": "code",
   "execution_count": 8,
   "metadata": {},
   "outputs": [
    {
     "ename": "KeyError",
     "evalue": "'class_name'",
     "output_type": "error",
     "traceback": [
      "---------------------------------------------------------------------------",
      "KeyError                                  Traceback (most recent call last)",
      "<ipython-input-8-5fa039a38d33> in <module>()\n      3 with open(\"models/nasnet/model.json\", \"r\") as f:\n      4     load_json = f.read()\n----> 5 model = keras.models.model_from_json(load_json)\n",
      "C:\\Users\\khanhpd2\\AppData\\Roaming\\Python\\Python37\\site-packages\\tensorflow_core\\python\\keras\\saving\\model_config.py in model_from_json(json_string, custom_objects)\n     94   config = json.loads(json_string)\n     95   from tensorflow.python.keras.layers import deserialize  # pylint: disable=g-import-not-at-top\n---> 96   return deserialize(config, custom_objects=custom_objects)\n",
      "C:\\Users\\khanhpd2\\AppData\\Roaming\\Python\\Python37\\site-packages\\tensorflow_core\\python\\keras\\layers\\serialization.py in deserialize(config, custom_objects)\n     92   globs['DenseFeatures'] = dense_features.DenseFeatures\n     93 \n---> 94   layer_class_name = config['class_name']\n     95   if layer_class_name in _DESERIALIZATION_TABLE:\n     96     config['class_name'] = _DESERIALIZATION_TABLE[layer_class_name]\n",
      "KeyError: 'class_name'"
     ]
    }
   ],
   "source": [
    "# nasnet.save(\"h5models/nasnet.h5\")\n",
    "\n",
    "with open(\"models/nasnet/model.json\", \"r\") as f:\n",
    "    load_json = f.read()\n",
    "model = keras.models.model_from_json(load_json)"
   ]
  }
 ],
 "metadata": {
  "kernelspec": {
   "display_name": "Python 3",
   "language": "python",
   "name": "python3"
  },
  "language_info": {
   "codemirror_mode": {
    "name": "ipython",
    "version": 3
   },
   "file_extension": ".py",
   "mimetype": "text/x-python",
   "name": "python",
   "nbconvert_exporter": "python",
   "pygments_lexer": "ipython3",
   "version": "3.7.1"
  }
 },
 "nbformat": 4,
 "nbformat_minor": 2
}
